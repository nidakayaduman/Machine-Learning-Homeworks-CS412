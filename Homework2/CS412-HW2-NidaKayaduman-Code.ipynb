{
 "cells": [
  {
   "cell_type": "code",
   "execution_count": 1,
   "metadata": {},
   "outputs": [
    {
     "name": "stdout",
     "output_type": "stream",
     "text": [
      "MultipleChoiceColumns: Index(['GenderSelect', 'Country', 'Age', 'EmploymentStatus', 'StudentStatus',\n",
      "       'LearningDataScience', 'CodeWriter', 'CareerSwitcher',\n",
      "       'CurrentJobTitleSelect', 'TitleFit',\n",
      "       ...\n",
      "       'JobFactorExperienceLevel', 'JobFactorDepartment', 'JobFactorTitle',\n",
      "       'JobFactorCompanyFunding', 'JobFactorImpact', 'JobFactorRemote',\n",
      "       'JobFactorIndustry', 'JobFactorLeaderReputation', 'JobFactorDiversity',\n",
      "       'JobFactorPublishingOpportunity'],\n",
      "      dtype='object', length=228)\n",
      "ConversionRatesColumns: Index(['Unnamed: 0', 'originCountry', 'exchangeRate'], dtype='object')\n",
      "FreeFormResponsesColumns: Index(['GenderFreeForm', 'KaggleMotivationFreeForm', 'CurrentJobTitleFreeForm',\n",
      "       'MLToolNextYearFreeForm', 'MLMethodNextYearFreeForm',\n",
      "       'LanguageRecommendationFreeForm', 'PublicDatasetsFreeForm',\n",
      "       'PersonalProjectsChallengeFreeForm',\n",
      "       'LearningPlatformCommunityFreeForm', 'LearningPlatformFreeForm1',\n",
      "       'LearningPlatformFreeForm2', 'LearningPlatformFreeForm3',\n",
      "       'LearningPlatformUsefulnessCommunitiesFreeForm',\n",
      "       'LearningPlatformUsefulnessFreeForm1Select',\n",
      "       'LearningPlatformUsefulnessFreeForm1SelectFreeForm',\n",
      "       'LearningPlatformUsefulnessFreeForm2Select',\n",
      "       'LearningPlatformUsefulnessFreeForm2SelectFreeForm',\n",
      "       'LearningPlatformUsefulnessFreeForm3Select',\n",
      "       'LearningPlatformUsefulnessFreeForm3SelectFreeForm',\n",
      "       'BlogsPodcastsNewslettersFreeForm',\n",
      "       'JobSkillImportanceOtherSelect1FreeForm',\n",
      "       'JobSkillImportanceOtherSelect2FreeForm',\n",
      "       'JobSkillImportanceOtherSelect3FreeForm', 'CoursePlatformFreeForm',\n",
      "       'HardwarePersonalProjectsFreeForm', 'ProveKnowledgeFreeForm',\n",
      "       'ImpactfulAlgorithmFreeForm', 'InterestingProblemFreeForm',\n",
      "       'DataScienceIdentityFreeForm', 'MajorFreeForm', 'PastJobTitlesFreeForm',\n",
      "       'FirstTrainingFreeForm', 'LearningCategoryOtherFreeForm',\n",
      "       'MLSkillsFreeForm', 'MLTechniquesFreeform',\n",
      "       'EmployerIndustryOtherFreeForm', 'EmployerSearchMethodOtherFreeForm',\n",
      "       'JobFunctionFreeForm', 'WorkHardwareFreeForm', 'WorkDataTypeFreeForm',\n",
      "       'WorkLibrariesFreeForm', 'WorkAlgorithmsFreeForm', 'WorkToolsFreeForm1',\n",
      "       'WorkToolsFreeForm2', 'WorkToolsFreeForm3',\n",
      "       'WorkToolsFrequencySelect1FreeForm', 'WorkFrequencySelect2FreeForm',\n",
      "       'WorkFrequencySelect3FreeForm', 'WorkMethodsFreeForm1',\n",
      "       'WorkMethodsFreeForm2', 'WorkMethodsFreeForm3',\n",
      "       'WorkMethodsFrequencySelect1FreeForm',\n",
      "       'WorkMethodsFrequencySelect2FreeForm',\n",
      "       'WorkMethodsFrequencySelect3FreeForm', 'TimeOtherSelectFreeForm',\n",
      "       'WorkChallengesFreeForm', 'WorkChallengeFrequencyOtherFreeForm',\n",
      "       'WorkMLTeamSeatFreeForm', 'WorkDataStorageFreeForm',\n",
      "       'WorkCodeSharingFreeForm', 'SalaryChangeFreeForm',\n",
      "       'JobSearchResourceFreeForm'],\n",
      "      dtype='object')\n",
      "SchemaColumns: Index(['Column', 'Question', 'Asked'], dtype='object')\n"
     ]
    }
   ],
   "source": [
    "import pandas as pd\n",
    "import numpy as np\n",
    "\n",
    "\n",
    "encoding_type = 'latin1'  # or 'cp1252' \n",
    "\n",
    "# Adjust the path \n",
    "mc_responses = pd.read_csv(r'C:\\Users\\7981\\Desktop\\cs412-hw2-data\\multipleChoiceResponses.csv', low_memory=False, encoding=encoding_type)\n",
    "conversionrates = pd.read_csv(r'C:\\Users\\7981\\Desktop\\cs412-hw2-data\\conversionRates.csv', low_memory=False, encoding=encoding_type)\n",
    "ff_responses = pd.read_csv(r'C:\\Users\\7981\\Desktop\\cs412-hw2-data\\freeformResponses.csv', low_memory=False, encoding=encoding_type)\n",
    "schema = pd.read_csv(r'C:\\Users\\7981\\Desktop\\cs412-hw2-data\\schema.csv', low_memory=False, encoding=encoding_type)\n",
    "\n",
    "print( \"MultipleChoiceColumns:\", mc_responses.columns)  \n",
    "print( \"ConversionRatesColumns:\", conversionrates.columns)  \n",
    "print( \"FreeFormResponsesColumns:\", ff_responses.columns)  \n",
    "print( \"SchemaColumns:\", schema.columns)  "
   ]
  },
  {
   "cell_type": "markdown",
   "metadata": {},
   "source": [
    "2a) What is the probability that a respondent is currently employed as a Programmer given they use C/C++ at work?\n"
   ]
  },
  {
   "cell_type": "code",
   "execution_count": 2,
   "metadata": {},
   "outputs": [
    {
     "name": "stdout",
     "output_type": "stream",
     "text": [
      "[nan 'Most of the time' 'Sometimes' 'Rarely' 'Often']\n"
     ]
    }
   ],
   "source": [
    "unique_values = mc_responses ['WorkToolsFrequencyC'].unique()\n",
    "\n",
    "print(unique_values)"
   ]
  },
  {
   "cell_type": "code",
   "execution_count": 3,
   "metadata": {},
   "outputs": [
    {
     "name": "stdout",
     "output_type": "stream",
     "text": [
      "Probability of working as a 'Programmer' among users who use C/C++: 0.0227\n"
     ]
    }
   ],
   "source": [
    "# Filter users who both use C/C++ and work as \"Programmer\"\n",
    "cc_users = mc_responses[mc_responses['WorkToolsFrequencyC'].notnull()]\n",
    "\n",
    "# Filter users who work as \"Programmer\"\n",
    "programmers_with_cc = cc_users[cc_users['CurrentJobTitleSelect'] == 'Programmer']\n",
    "\n",
    "# Calculate probability\n",
    "total_cc_users = cc_users.shape[0]\n",
    "programmers_with_cc_count = programmers_with_cc.shape[0]\n",
    "probability = programmers_with_cc_count / total_cc_users if total_cc_users > 0 else 0\n",
    "\n",
    "# Print the probability of working as a 'Programmer' among users who use C/C++\n",
    "print(f\"Probability of working as a 'Programmer' among users who use C/C++: {probability:.4f}\")\n",
    "\n"
   ]
  },
  {
   "cell_type": "markdown",
   "metadata": {},
   "source": [
    "2b) What is the probability that a respondent is a Data Scientist given they have majored in computer science, mathematics or statistics?\n"
   ]
  },
  {
   "cell_type": "code",
   "execution_count": 4,
   "metadata": {},
   "outputs": [
    {
     "name": "stdout",
     "output_type": "stream",
     "text": [
      "['Management information systems' 'Computer Science'\n",
      " 'Engineering (non-computer focused)' 'Mathematics or statistics'\n",
      " 'Electrical Engineering' nan 'Other' 'Biology' 'Physics'\n",
      " 'Information technology, networking, or system administration'\n",
      " 'A social science' 'A health science' 'A humanities discipline'\n",
      " 'Fine arts or performing arts' 'I never declared a major' 'Psychology']\n"
     ]
    }
   ],
   "source": [
    "unique_values = mc_responses['MajorSelect'].unique()\n",
    "\n",
    "print(unique_values)"
   ]
  },
  {
   "cell_type": "code",
   "execution_count": 5,
   "metadata": {},
   "outputs": [
    {
     "name": "stdout",
     "output_type": "stream",
     "text": [
      "['DBA/Database Engineer' nan 'Operations Research Practitioner'\n",
      " 'Computer Scientist' 'Data Scientist'\n",
      " 'Software Developer/Software Engineer' 'Business Analyst' 'Engineer'\n",
      " 'Scientist/Researcher' 'Researcher' 'Other' 'Data Analyst'\n",
      " 'Machine Learning Engineer' 'Statistician' 'Predictive Modeler'\n",
      " 'Programmer' 'Data Miner']\n"
     ]
    }
   ],
   "source": [
    "unique_values = mc_responses['CurrentJobTitleSelect'].unique()\n",
    "\n",
    "print(unique_values)"
   ]
  },
  {
   "cell_type": "code",
   "execution_count": 6,
   "metadata": {},
   "outputs": [
    {
     "name": "stdout",
     "output_type": "stream",
     "text": [
      "Probability of working as a 'Data Scientist' among participants with majors in Computer Science, Mathematics or Statistics: 0.1597\n"
     ]
    }
   ],
   "source": [
    "# Filter participants with relevant majors\n",
    "majors = ['Computer Science', 'Mathematics', 'Statistics', 'Mathematics or statistics']\n",
    "majored_in_fields = mc_responses['MajorSelect'].isin(majors)\n",
    "\n",
    "# Filter participants who both majored in relevant fields and work as \"Data Scientist\"\n",
    "data_scientists = mc_responses[majored_in_fields & (mc_responses['CurrentJobTitleSelect'] == 'Data Scientist')]\n",
    "\n",
    "# Calculate probability\n",
    "total_majored_in_fields = majored_in_fields.sum()\n",
    "data_scientists_count = data_scientists.shape[0]\n",
    "probability = data_scientists_count / total_majored_in_fields if total_majored_in_fields > 0 else 0\n",
    "\n",
    "print(f\"Probability of working as a 'Data Scientist' among participants with majors in Computer Science, Mathematics or Statistics: {probability:.4f}\")\n"
   ]
  },
  {
   "cell_type": "markdown",
   "metadata": {},
   "source": [
    "2c) What is the probability that a respondent works in the Technology industry given that they earn more than 40,000 USD annually?\n"
   ]
  },
  {
   "cell_type": "code",
   "execution_count": 7,
   "metadata": {},
   "outputs": [
    {
     "name": "stdout",
     "output_type": "stream",
     "text": [
      "['Internet-based' nan 'Mix of fields' 'Technology' 'Academic' 'Government'\n",
      " 'Non-profit' 'Financial' 'Retail' 'Telecommunications' 'Other'\n",
      " 'Pharmaceutical' 'Military/Security' 'CRM/Marketing' 'Manufacturing'\n",
      " 'Hospitality/Entertainment/Sports' 'Insurance']\n"
     ]
    }
   ],
   "source": [
    "unique_values = mc_responses['EmployerIndustry'].unique()\n",
    "\n",
    "print(unique_values)"
   ]
  },
  {
   "cell_type": "code",
   "execution_count": 8,
   "metadata": {},
   "outputs": [
    {
     "name": "stdout",
     "output_type": "stream",
     "text": [
      "[nan '250,000' '80000' '1200000' '95,000' '1100000' '120,000' '20000'\n",
      " '100000' '624000' '65000' '156000000' '150000' '126000' '130,000'\n",
      " '133000' '30000' '28000' '200000' '15000' '72000' '120000' '100,000'\n",
      " '36000' '215000' '61000' '83500' '115000' '4000000' '135000' '75000'\n",
      " '190000' '1500' '25000' '372000' '45000' '10000' '60000' '840000' '29000'\n",
      " '85,000' '12000' '65,000' '3,000' '55000' '85000' '360000' '20,000'\n",
      " '92,000' '66390' '79000' '305000' '90000' '90,000' '40000' '35000'\n",
      " '800000' '480' '92000' '38000' '140000' '160000' '52000' '25,000' '96'\n",
      " '33000' '1400000' '80,000' '180000' '18000' '42500' '14000' '109500'\n",
      " '3600000' '39,000' '0' '155000' '170,075' '110000' '300000' '36,000'\n",
      " '40000000' '87000' '49000' '2000000' '40,000' '50000' '470000' '96000'\n",
      " '173000' '31000' '17200' '150,000' '130000' '125000' '277000' '178000'\n",
      " '30,000' '24000' '107000' '600000' '67500' '3000' '42000' '58000'\n",
      " '105000' '75,000' '17000' '154000' '70000' '48,000' '78000' '71000'\n",
      " '86000' '24' '77,000' '55,000' '87645' '121000' '850,000' '200,000'\n",
      " '80000000' '8,000,000' '59000' '94000' '93000' '50,000' '165000' '126850'\n",
      " '226000' '95000' '117000' '658000' '47000' '255000' '3,200' '36,000,000'\n",
      " '208000' '250000' '190,000' '10,000,000' '8,500,000' '5500' '77000'\n",
      " '465000' '220000' '10000000' '500000' '79,000' '175000' '475000' '68000'\n",
      " '484000' '6500000' '648,000' '2200000' '37,000' '74000' '330000'\n",
      " '7000000' '1300000' '1.00E+11' '134000' '8000' '300,000' '320000' '27000'\n",
      " '22500' '1500000' '130000000' '103000' '700000' '71,500' '210000'\n",
      " '350000' '116000' '1800000' '67000' '70,000' '114000' '1,500,000'\n",
      " '3000000' '11,000' '420000' '250,000,000' '150,000.00' '1000000' '6000'\n",
      " '240000' '53000' '120000000' '115500' '2500000' '172000' '140,000' '1000'\n",
      " '23000' '99000' '49750' '1,100,000' '140000000' '230000' '72,000'\n",
      " '1700000' '2250000' '540000' '60,000' '160,000' '77250' '910000' '83000'\n",
      " '9000000' '88500' '170000' '6,000,000' '60000000' '-' '1420000' '720000'\n",
      " '3500000' '770000' '363000' '900000' '7500000' '131000' '480000' '750000'\n",
      " '170,000' '109000' '5000000' '508000' '900,000' '1,200,000' '205'\n",
      " '660000' '54000000' '1' '117,000' '550000' '132000' '2400000' '137000'\n",
      " '2900000' '585000' '360,000' '710000' '280000' '216000' '1600000'\n",
      " '115,000' '57600' '450000' '512000' '10.9' '50400' '193,000' '39000'\n",
      " '1980000' '24000000' '280,000' '48000' '99999' '324000' '650000' '145000'\n",
      " '910,000' '6000000' '33333' '14.5' '860000' '15600' '67,000' '125,000'\n",
      " '194000' '34,200' '13500' '670,000' '54000' '780000' '88000' '7,700,000'\n",
      " '2000' '43000' '50700' '500' '50,000,000' '69150000' '26000' '52500'\n",
      " '180,000' '3300000' '1950000' '64000' '2100000' '37000' '384000'\n",
      " '1900000' '52480' '39,600' '2400' '510000' '504000' '12,000' '6700'\n",
      " '1100' '3840000' '620,000' '1820000' '63,000' '173,000' '1150000' '144'\n",
      " '1,000,000' '78300' '310000' '5,000,000' '40,000,000' '45,000' '12000000'\n",
      " '472000' '10800' '52,000' '480,000' '34000' '650' '4800' '24,000'\n",
      " '550,000' '84,000' '53,000' '91500' '34500' '558000' '288000' '540,000'\n",
      " '260000' '498000' '1624400' '122000' '10,000' '89,000' '400,000' '42'\n",
      " '84000' '430000' '62000' '90' '400000' '576000' '4000' '365000' '16000'\n",
      " '1350000' '39.5' '920000' '100000000' '720' '42000000' '17,000' '1440000'\n",
      " '1650000' '31500' '1320000' '51,000' '2600000' '477600' '25200' '44,000'\n",
      " '880000' '7400' '560000' '820,000' '42,000' '455000' '55500' '44000'\n",
      " '892000' '110,000' '108000' '57000' '175,000' '725000' '4200000' '20400'\n",
      " '7000' '20000000' '71500' '14,400' '19200' '38500' '3360000' '218700'\n",
      " '41500' '3760000' '1039000' '63000' '-1' '50200' '255600' '6500' '56000'\n",
      " '5,000' '87' '950000' '18500' '40500' '960,000' '1680000' '9000'\n",
      " '104,000' '40' '530000000' '335,000' '15,000' '1250000' '93,600' '5,400'\n",
      " '490000' '2700000' '118000' '66000' '570000' '625000' '850000' '600'\n",
      " '47,000' '9999999' '75000000' '21000' '117600' '11760' '520000'\n",
      " '400000000' '102000' '161000' '35,500' '524000' '32650' '1400' '148800'\n",
      " '500,000' '105,000' '3113' '198000' '426000' '147000' '41,000'\n",
      " '1,020,000' '47500' '114,000' '76000' '131500' '81500' '58600' '6600'\n",
      " '3458000' '78,000' '73000' '4500000' '112500' '195000' '39' '107,000'\n",
      " '66500' '35' '13000' '97500' '285000' '108,000' '136500' '132' '1620000'\n",
      " '77,500' '91,000' '8800' '22000' '3650' '166000' '4500' '60900' '106000'\n",
      " '225000' '153000' '150' '93500' '72780' '51500' '153600' '2289008' '-99'\n",
      " '58' '29400' '185000' '20' '98000' '36000000' '168000' '30,000,000'\n",
      " '64,000' '102,500' '32000' '151000' '10,400' '10500' '85200' '142000'\n",
      " '180' '15333' '385000' '36800' '380000' '310000000' '83001' '28,000'\n",
      " '245000' '87500' '92600' '25000000' '143000' '15,000,000' '264000'\n",
      " '123000' '74,000' '122,000' '94600' '30330' '730000' '35,000' '49,200'\n",
      " '103639' '222' '127000' '169000' '97000' '63500' '10800000' '101,000'\n",
      " '265,000' '55000000' '167000' '99300' '98,000' '170,000.00' '835000'\n",
      " '54080' '205000' '83,000' '26200' '101000' '210,000' '240,000' '163500'\n",
      " '82500' '247000' '87,000' '325000' '299,000' '4800000' '57,000' '19000'\n",
      " '800,000' '9720000' '15000000' '91000' '26400' '34,000' '1830000' '64500'\n",
      " '350,000' '56500' '447000' '52800' '89000' '112000' '2800000' '12900'\n",
      " '46000' '73,000' '43500' '13818' '148000' '113221' '28000000' '33000000'\n",
      " '5000' '348,000' '94500' '800' '149000' '67,500' '3,000,000' '155'\n",
      " '666000' '110' '9300000' '27,000,000' '117,500' '8500' '202,500' '125'\n",
      " '1,800,000' '83200' '1700' '55900' '68,000' '82000' '70700' '11000'\n",
      " '56200' '144000' '192000' '43,000' '177000' '27500' '1194000000'\n",
      " '240000000' '3100000' '136000' '51000' '39500' '265000' '43200' '188000'\n",
      " '3200000' '825000' '152000' '74,800' '77,900' '533000' '200,000,000'\n",
      " '218000' '60,000,000' '420000000' '450,000' '640000' '780723' '975000'\n",
      " '153,000' '228000' '2,000,000' '138,000' '32,000.00' '35000000' '201000'\n",
      " '73500' '8000000' '700,000' '32,000' '156000' '54,000' '62500' '15'\n",
      " '123500' '18,000' '140,000.00' '315000' '275000' '195,000' '13,000'\n",
      " '22,000' '1200' '68000000' '400' '664000' '3800' '7,800,000' '72500'\n",
      " '7,200,000' '1,300,000' '655000' '590000' '370000' '20500' '7600000'\n",
      " '1272000' '355000' '97' '186000' '927000' '820000' '654000' '15.5'\n",
      " '3,520,000' '750,000' '535000' '19,000' '2475000' '960000' '100' '26,000'\n",
      " '2300000' '80' '528000' '95,700' '4450' '1,050,000' '336000' '7500' '36'\n",
      " '852000' '2110000' '55200' '256' '2' '96200' '12400' '113000' '88,000'\n",
      " '610000' '39600' '50000000' '485' '135,000' '288,000' '9600' '600,000'\n",
      " '1380000' '20880' '4,000,000' '107,000,000' '575000' '23000000' '264,000'\n",
      " '440,000' '420,000' '96,000' '13000000' '10300000' '38,000' '58,000'\n",
      " '16,200' '369600' '54' '32400' '11700000' '18000000' '27057' '1,550,000'\n",
      " '750000000' '4300000' '144,000,000' '62' '270,000' '112195' '11000000'\n",
      " '46,000' '828000' '7200' '51,428' '235000' '5600000' '1450000' '312000'\n",
      " '14400' '69000' '790000' '17,500' '34800' '104000' '4,000' '112,000'\n",
      " '12,000,000' '700000000' '172500' '390000' '137,000' '28400000'\n",
      " '7,000,000' '1080000' '864,000' '84,000,000' '66000000' '78000000'\n",
      " '555000' '33,000' '3,800,000' '69500' '1285715' '66,000,000' '239000'\n",
      " '162000' '30000000' '94,000' '45,000,000' '71,000' '150000000' '102759'\n",
      " '25515' '84' '60' '41574' '270000' '159000' '675000' '3600' '15700'\n",
      " '48000000' '11500' '183000' '217000' '158000' '160' '36,400' '56,400'\n",
      " '20800' '325,000' '15340000' '1296000' '76800' '100008' '39000000'\n",
      " '38400' '3250000' '5500000' '3269000' '2650000' '99600' '1,600,000'\n",
      " '23,000' '375000' '128,000' '371800' '546000' '75600' '53,756' '740000'\n",
      " '102' '11400' '25,000,000' '66,000' '41000' '132,000' '85' '152,000'\n",
      " '25900000' '715000' '3,600,000' '134,000' '185' '14000000' '23500' '120'\n",
      " '1850000' '310,000' '103500' '676000' '192000000' '290,000' '6,400,000'\n",
      " '18800' '890000' '3500' '900' '8400' '105040' '400,000,000' '146000'\n",
      " '118,000' '47800' '77500' '13200' '21483' '170' '800000000' '50,000,00'\n",
      " '45600' '111000' '1881' '86905' '52' '408000' '4440000' '1540000' '5754'\n",
      " '265' '92,500' '37700' '185,000' '755000' '155,000' '220,000' '139000'\n",
      " '137500' '35500' '138000' '191000' '19500' '30500' '720000000' '54,800'\n",
      " '841' '89500' '45000000' '84,500' '115200' '96000000' '32600' '7200000'\n",
      " '340000' '635000' '140000,00' '9600000' '2,200,000' '620000' '28800'\n",
      " '86700' '36400']\n",
      "[nan 'USD' 'AUD' 'RUB' 'INR' 'TWD' 'CZK' 'COP' 'EUR' 'PLN' 'GBP' 'MXN'\n",
      " 'HKD' 'HUF' 'BRL' 'NZD' 'CLP' 'ZAR' 'JPY' 'KRW' 'PEN' 'ARS' 'CAD' 'CNY'\n",
      " 'AMD' 'MYR' 'VND' 'PHP' 'IDR' 'BIF' 'GTQ' 'THB' 'PKR' 'NPR' 'SGD' 'SEK'\n",
      " 'NGN' 'TRY' 'IRR' 'AED' 'NOK' 'KES' 'AFN' 'BHD' 'BDT' 'CHF' 'BGN' 'LKR'\n",
      " 'CUP' 'UAH' 'KZT' 'UGX' 'DKK' 'SDG' 'CRC' 'ILS' 'MAD' 'XOF' 'TND' 'RON'\n",
      " 'TTD' 'ISK' 'RSD' 'BYN' 'SZL' 'EGP' 'GHS' 'BSD' 'DOP' 'SVC' 'YER' 'ALL'\n",
      " 'BAM' 'MGA' 'ETB' 'SAR' 'HRK' 'JOD' 'DZD' 'XAF' 'MUR' 'VEF' 'PAB' 'UYU'\n",
      " 'SPL' 'OMR' 'AZN' 'IQD']\n"
     ]
    }
   ],
   "source": [
    "unique_values = mc_responses['CompensationAmount'].unique()\n",
    "\n",
    "print(unique_values)\n",
    "\n",
    "unique_values2 = mc_responses['CompensationCurrency'].unique()\n",
    "\n",
    "print(unique_values2)"
   ]
  },
  {
   "cell_type": "code",
   "execution_count": 9,
   "metadata": {},
   "outputs": [
    {
     "name": "stdout",
     "output_type": "stream",
     "text": [
      "The probability that a respondent earns more than 40,000 USD annually and works in the Technology industry is: 0.1935\n"
     ]
    }
   ],
   "source": [
    "mc_responses_copy = mc_responses.copy()\n",
    "\n",
    "mc_responses_copy = mc_responses_copy.merge(conversionrates, left_on='CompensationCurrency', right_on='originCountry', how='left')\n",
    "\n",
    "mc_responses_copy['CompensationAmountUSD'] = pd.to_numeric(mc_responses_copy['CompensationAmount'].str.replace(',', '').str.replace('-', ''), errors='coerce') * mc_responses_copy['exchangeRate']\n",
    "\n",
    "high_earners = mc_responses_copy[mc_responses_copy['CompensationAmountUSD'] > 40000]\n",
    "probability = high_earners[high_earners['EmployerIndustry'] == 'Technology'].shape[0] / high_earners.shape[0] if high_earners.shape[0] > 0 else 0\n",
    "\n",
    "print(f\"The probability that a respondent earns more than 40,000 USD annually and works in the Technology industry is: {probability:.4f}\")\n"
   ]
  },
  {
   "cell_type": "markdown",
   "metadata": {},
   "source": [
    "2d) What is the joint probability of a respondent being over 30 years old and having a at least a Bachelor’s degree?\n"
   ]
  },
  {
   "cell_type": "code",
   "execution_count": 10,
   "metadata": {},
   "outputs": [
    {
     "name": "stdout",
     "output_type": "stream",
     "text": [
      "[\"Bachelor's degree\" \"Master's degree\" 'Doctoral degree' nan\n",
      " \"Some college/university study without earning a bachelor's degree\"\n",
      " 'I did not complete any formal education past high school'\n",
      " 'Professional degree' 'I prefer not to answer']\n"
     ]
    }
   ],
   "source": [
    "unique_values = mc_responses['FormalEducation'].unique()\n",
    "\n",
    "print(unique_values)\n"
   ]
  },
  {
   "cell_type": "code",
   "execution_count": 11,
   "metadata": {},
   "outputs": [
    {
     "name": "stdout",
     "output_type": "stream",
     "text": [
      "Joint probability of participants being over 30 and having at least a bachelor's degree: 0.3690\n"
     ]
    }
   ],
   "source": [
    "higher_education = mc_responses['FormalEducation'].isin([\n",
    "    \"Bachelor's degree\", \"Master's degree\", \"Doctoral degree\"\n",
    "])\n",
    "\n",
    "over_30 = (mc_responses['Age'] > 30) & (mc_responses['Age'].notna())\n",
    "\n",
    "over_30_and_higher_ed = mc_responses[higher_education & over_30]\n",
    "\n",
    "joint_probability = len(over_30_and_higher_ed) / len(mc_responses)\n",
    "\n",
    "print(f\"Joint probability of participants being over 30 and having at least a bachelor's degree: {joint_probability:.4f}\")\n"
   ]
  },
  {
   "cell_type": "markdown",
   "metadata": {},
   "source": [
    "2e) What is the probability that a respondent is a Data Scientist who majored in Computer Science, Mathematics or statistics?"
   ]
  },
  {
   "cell_type": "code",
   "execution_count": 12,
   "metadata": {},
   "outputs": [
    {
     "name": "stdout",
     "output_type": "stream",
     "text": [
      "Probability of participants who are Data Scientists and have education in Computer Science, Mathematics, or Statistics: 0.0632\n"
     ]
    }
   ],
   "source": [
    "# Filter \"Data Scientists\" who have received education in Computer Science, Mathematics, or Statistics\n",
    "data_scientists_cs_math_stats = mc_responses[\n",
    "    (mc_responses['CurrentJobTitleSelect'] == 'Data Scientist') &\n",
    "    (\n",
    "        (mc_responses['MajorSelect'] == 'Computer Science') |\n",
    "        (mc_responses['MajorSelect'] == 'Mathematics or statistics') |\n",
    "        (mc_responses['MajorSelect'] == 'Statistics') |\n",
    "        (mc_responses['MajorSelect'] == 'Mathematics') \n",
    "    )\n",
    "]\n",
    "\n",
    "# Calculate probability\n",
    "probability = len(data_scientists_cs_math_stats) / len(mc_responses)\n",
    "\n",
    "print(f\"Probability of participants who are Data Scientists and have education in Computer Science, Mathematics, or Statistics: {probability:.4f}\")\n"
   ]
  },
  {
   "cell_type": "markdown",
   "metadata": {},
   "source": [
    "2f) What is the joint probability that a respondent is from France, earns less than 100,000 USD annually, and uses Cross-Validation Often or Most of the time?"
   ]
  },
  {
   "cell_type": "code",
   "execution_count": 13,
   "metadata": {},
   "outputs": [
    {
     "name": "stdout",
     "output_type": "stream",
     "text": [
      "[nan 'Sometimes' 'Most of the time' 'Often' 'Rarely']\n"
     ]
    }
   ],
   "source": [
    "unique_values = mc_responses['WorkMethodsFrequencyCross-Validation'].unique()\n",
    "\n",
    "print(unique_values)"
   ]
  },
  {
   "cell_type": "code",
   "execution_count": 14,
   "metadata": {},
   "outputs": [
    {
     "name": "stdout",
     "output_type": "stream",
     "text": [
      "[nan 'United States' 'Canada' 'Taiwan' 'Brazil' 'India' 'Australia'\n",
      " 'Russia' 'Netherlands' 'Italy' 'United Kingdom' 'Czech Republic'\n",
      " 'Colombia' 'Germany' 'Denmark' 'Poland' 'South Africa' 'Sweden'\n",
      " 'Portugal' 'Other' 'Mexico' 'New Zealand' \"People 's Republic of China\"\n",
      " 'Japan' 'Iran' 'Singapore' 'France' 'Spain' 'Indonesia' 'Israel' 'Egypt'\n",
      " 'Hungary' 'Argentina' 'Turkey' 'Ukraine' 'Greece' 'Pakistan' 'Finland'\n",
      " 'Norway' 'Ireland' 'Chile' 'Belarus' 'Malaysia' 'South Korea' 'Nigeria'\n",
      " 'Belgium' 'Hong Kong' 'Republic of China' 'Philippines' 'Vietnam' 'Kenya'\n",
      " 'Switzerland' 'Romania']\n"
     ]
    }
   ],
   "source": [
    "unique_values = mc_responses['Country'].unique()\n",
    "\n",
    "print(unique_values)"
   ]
  },
  {
   "cell_type": "code",
   "execution_count": 15,
   "metadata": {},
   "outputs": [
    {
     "name": "stdout",
     "output_type": "stream",
     "text": [
      "[nan 'USD' 'AUD' 'RUB' 'INR' 'TWD' 'CZK' 'COP' 'EUR' 'PLN' 'GBP' 'MXN'\n",
      " 'HKD' 'HUF' 'BRL' 'NZD' 'CLP' 'ZAR' 'JPY' 'KRW' 'PEN' 'ARS' 'CAD' 'CNY'\n",
      " 'AMD' 'MYR' 'VND' 'PHP' 'IDR' 'BIF' 'GTQ' 'THB' 'PKR' 'NPR' 'SGD' 'SEK'\n",
      " 'NGN' 'TRY' 'IRR' 'AED' 'NOK' 'KES' 'AFN' 'BHD' 'BDT' 'CHF' 'BGN' 'LKR'\n",
      " 'CUP' 'UAH' 'KZT' 'UGX' 'DKK' 'SDG' 'CRC' 'ILS' 'MAD' 'XOF' 'TND' 'RON'\n",
      " 'TTD' 'ISK' 'RSD' 'BYN' 'SZL' 'EGP' 'GHS' 'BSD' 'DOP' 'SVC' 'YER' 'ALL'\n",
      " 'BAM' 'MGA' 'ETB' 'SAR' 'HRK' 'JOD' 'DZD' 'XAF' 'MUR' 'VEF' 'PAB' 'UYU'\n",
      " 'SPL' 'OMR' 'AZN' 'IQD']\n"
     ]
    }
   ],
   "source": [
    "unique_values = mc_responses['CompensationCurrency'].unique()\n",
    "\n",
    "print(unique_values)"
   ]
  },
  {
   "cell_type": "code",
   "execution_count": 16,
   "metadata": {},
   "outputs": [
    {
     "name": "stdout",
     "output_type": "stream",
     "text": [
      "[nan '250,000' '80000' '1200000' '95,000' '1100000' '120,000' '20000'\n",
      " '100000' '624000' '65000' '156000000' '150000' '126000' '130,000'\n",
      " '133000' '30000' '28000' '200000' '15000' '72000' '120000' '100,000'\n",
      " '36000' '215000' '61000' '83500' '115000' '4000000' '135000' '75000'\n",
      " '190000' '1500' '25000' '372000' '45000' '10000' '60000' '840000' '29000'\n",
      " '85,000' '12000' '65,000' '3,000' '55000' '85000' '360000' '20,000'\n",
      " '92,000' '66390' '79000' '305000' '90000' '90,000' '40000' '35000'\n",
      " '800000' '480' '92000' '38000' '140000' '160000' '52000' '25,000' '96'\n",
      " '33000' '1400000' '80,000' '180000' '18000' '42500' '14000' '109500'\n",
      " '3600000' '39,000' '0' '155000' '170,075' '110000' '300000' '36,000'\n",
      " '40000000' '87000' '49000' '2000000' '40,000' '50000' '470000' '96000'\n",
      " '173000' '31000' '17200' '150,000' '130000' '125000' '277000' '178000'\n",
      " '30,000' '24000' '107000' '600000' '67500' '3000' '42000' '58000'\n",
      " '105000' '75,000' '17000' '154000' '70000' '48,000' '78000' '71000'\n",
      " '86000' '24' '77,000' '55,000' '87645' '121000' '850,000' '200,000'\n",
      " '80000000' '8,000,000' '59000' '94000' '93000' '50,000' '165000' '126850'\n",
      " '226000' '95000' '117000' '658000' '47000' '255000' '3,200' '36,000,000'\n",
      " '208000' '250000' '190,000' '10,000,000' '8,500,000' '5500' '77000'\n",
      " '465000' '220000' '10000000' '500000' '79,000' '175000' '475000' '68000'\n",
      " '484000' '6500000' '648,000' '2200000' '37,000' '74000' '330000'\n",
      " '7000000' '1300000' '1.00E+11' '134000' '8000' '300,000' '320000' '27000'\n",
      " '22500' '1500000' '130000000' '103000' '700000' '71,500' '210000'\n",
      " '350000' '116000' '1800000' '67000' '70,000' '114000' '1,500,000'\n",
      " '3000000' '11,000' '420000' '250,000,000' '150,000.00' '1000000' '6000'\n",
      " '240000' '53000' '120000000' '115500' '2500000' '172000' '140,000' '1000'\n",
      " '23000' '99000' '49750' '1,100,000' '140000000' '230000' '72,000'\n",
      " '1700000' '2250000' '540000' '60,000' '160,000' '77250' '910000' '83000'\n",
      " '9000000' '88500' '170000' '6,000,000' '60000000' '-' '1420000' '720000'\n",
      " '3500000' '770000' '363000' '900000' '7500000' '131000' '480000' '750000'\n",
      " '170,000' '109000' '5000000' '508000' '900,000' '1,200,000' '205'\n",
      " '660000' '54000000' '1' '117,000' '550000' '132000' '2400000' '137000'\n",
      " '2900000' '585000' '360,000' '710000' '280000' '216000' '1600000'\n",
      " '115,000' '57600' '450000' '512000' '10.9' '50400' '193,000' '39000'\n",
      " '1980000' '24000000' '280,000' '48000' '99999' '324000' '650000' '145000'\n",
      " '910,000' '6000000' '33333' '14.5' '860000' '15600' '67,000' '125,000'\n",
      " '194000' '34,200' '13500' '670,000' '54000' '780000' '88000' '7,700,000'\n",
      " '2000' '43000' '50700' '500' '50,000,000' '69150000' '26000' '52500'\n",
      " '180,000' '3300000' '1950000' '64000' '2100000' '37000' '384000'\n",
      " '1900000' '52480' '39,600' '2400' '510000' '504000' '12,000' '6700'\n",
      " '1100' '3840000' '620,000' '1820000' '63,000' '173,000' '1150000' '144'\n",
      " '1,000,000' '78300' '310000' '5,000,000' '40,000,000' '45,000' '12000000'\n",
      " '472000' '10800' '52,000' '480,000' '34000' '650' '4800' '24,000'\n",
      " '550,000' '84,000' '53,000' '91500' '34500' '558000' '288000' '540,000'\n",
      " '260000' '498000' '1624400' '122000' '10,000' '89,000' '400,000' '42'\n",
      " '84000' '430000' '62000' '90' '400000' '576000' '4000' '365000' '16000'\n",
      " '1350000' '39.5' '920000' '100000000' '720' '42000000' '17,000' '1440000'\n",
      " '1650000' '31500' '1320000' '51,000' '2600000' '477600' '25200' '44,000'\n",
      " '880000' '7400' '560000' '820,000' '42,000' '455000' '55500' '44000'\n",
      " '892000' '110,000' '108000' '57000' '175,000' '725000' '4200000' '20400'\n",
      " '7000' '20000000' '71500' '14,400' '19200' '38500' '3360000' '218700'\n",
      " '41500' '3760000' '1039000' '63000' '-1' '50200' '255600' '6500' '56000'\n",
      " '5,000' '87' '950000' '18500' '40500' '960,000' '1680000' '9000'\n",
      " '104,000' '40' '530000000' '335,000' '15,000' '1250000' '93,600' '5,400'\n",
      " '490000' '2700000' '118000' '66000' '570000' '625000' '850000' '600'\n",
      " '47,000' '9999999' '75000000' '21000' '117600' '11760' '520000'\n",
      " '400000000' '102000' '161000' '35,500' '524000' '32650' '1400' '148800'\n",
      " '500,000' '105,000' '3113' '198000' '426000' '147000' '41,000'\n",
      " '1,020,000' '47500' '114,000' '76000' '131500' '81500' '58600' '6600'\n",
      " '3458000' '78,000' '73000' '4500000' '112500' '195000' '39' '107,000'\n",
      " '66500' '35' '13000' '97500' '285000' '108,000' '136500' '132' '1620000'\n",
      " '77,500' '91,000' '8800' '22000' '3650' '166000' '4500' '60900' '106000'\n",
      " '225000' '153000' '150' '93500' '72780' '51500' '153600' '2289008' '-99'\n",
      " '58' '29400' '185000' '20' '98000' '36000000' '168000' '30,000,000'\n",
      " '64,000' '102,500' '32000' '151000' '10,400' '10500' '85200' '142000'\n",
      " '180' '15333' '385000' '36800' '380000' '310000000' '83001' '28,000'\n",
      " '245000' '87500' '92600' '25000000' '143000' '15,000,000' '264000'\n",
      " '123000' '74,000' '122,000' '94600' '30330' '730000' '35,000' '49,200'\n",
      " '103639' '222' '127000' '169000' '97000' '63500' '10800000' '101,000'\n",
      " '265,000' '55000000' '167000' '99300' '98,000' '170,000.00' '835000'\n",
      " '54080' '205000' '83,000' '26200' '101000' '210,000' '240,000' '163500'\n",
      " '82500' '247000' '87,000' '325000' '299,000' '4800000' '57,000' '19000'\n",
      " '800,000' '9720000' '15000000' '91000' '26400' '34,000' '1830000' '64500'\n",
      " '350,000' '56500' '447000' '52800' '89000' '112000' '2800000' '12900'\n",
      " '46000' '73,000' '43500' '13818' '148000' '113221' '28000000' '33000000'\n",
      " '5000' '348,000' '94500' '800' '149000' '67,500' '3,000,000' '155'\n",
      " '666000' '110' '9300000' '27,000,000' '117,500' '8500' '202,500' '125'\n",
      " '1,800,000' '83200' '1700' '55900' '68,000' '82000' '70700' '11000'\n",
      " '56200' '144000' '192000' '43,000' '177000' '27500' '1194000000'\n",
      " '240000000' '3100000' '136000' '51000' '39500' '265000' '43200' '188000'\n",
      " '3200000' '825000' '152000' '74,800' '77,900' '533000' '200,000,000'\n",
      " '218000' '60,000,000' '420000000' '450,000' '640000' '780723' '975000'\n",
      " '153,000' '228000' '2,000,000' '138,000' '32,000.00' '35000000' '201000'\n",
      " '73500' '8000000' '700,000' '32,000' '156000' '54,000' '62500' '15'\n",
      " '123500' '18,000' '140,000.00' '315000' '275000' '195,000' '13,000'\n",
      " '22,000' '1200' '68000000' '400' '664000' '3800' '7,800,000' '72500'\n",
      " '7,200,000' '1,300,000' '655000' '590000' '370000' '20500' '7600000'\n",
      " '1272000' '355000' '97' '186000' '927000' '820000' '654000' '15.5'\n",
      " '3,520,000' '750,000' '535000' '19,000' '2475000' '960000' '100' '26,000'\n",
      " '2300000' '80' '528000' '95,700' '4450' '1,050,000' '336000' '7500' '36'\n",
      " '852000' '2110000' '55200' '256' '2' '96200' '12400' '113000' '88,000'\n",
      " '610000' '39600' '50000000' '485' '135,000' '288,000' '9600' '600,000'\n",
      " '1380000' '20880' '4,000,000' '107,000,000' '575000' '23000000' '264,000'\n",
      " '440,000' '420,000' '96,000' '13000000' '10300000' '38,000' '58,000'\n",
      " '16,200' '369600' '54' '32400' '11700000' '18000000' '27057' '1,550,000'\n",
      " '750000000' '4300000' '144,000,000' '62' '270,000' '112195' '11000000'\n",
      " '46,000' '828000' '7200' '51,428' '235000' '5600000' '1450000' '312000'\n",
      " '14400' '69000' '790000' '17,500' '34800' '104000' '4,000' '112,000'\n",
      " '12,000,000' '700000000' '172500' '390000' '137,000' '28400000'\n",
      " '7,000,000' '1080000' '864,000' '84,000,000' '66000000' '78000000'\n",
      " '555000' '33,000' '3,800,000' '69500' '1285715' '66,000,000' '239000'\n",
      " '162000' '30000000' '94,000' '45,000,000' '71,000' '150000000' '102759'\n",
      " '25515' '84' '60' '41574' '270000' '159000' '675000' '3600' '15700'\n",
      " '48000000' '11500' '183000' '217000' '158000' '160' '36,400' '56,400'\n",
      " '20800' '325,000' '15340000' '1296000' '76800' '100008' '39000000'\n",
      " '38400' '3250000' '5500000' '3269000' '2650000' '99600' '1,600,000'\n",
      " '23,000' '375000' '128,000' '371800' '546000' '75600' '53,756' '740000'\n",
      " '102' '11400' '25,000,000' '66,000' '41000' '132,000' '85' '152,000'\n",
      " '25900000' '715000' '3,600,000' '134,000' '185' '14000000' '23500' '120'\n",
      " '1850000' '310,000' '103500' '676000' '192000000' '290,000' '6,400,000'\n",
      " '18800' '890000' '3500' '900' '8400' '105040' '400,000,000' '146000'\n",
      " '118,000' '47800' '77500' '13200' '21483' '170' '800000000' '50,000,00'\n",
      " '45600' '111000' '1881' '86905' '52' '408000' '4440000' '1540000' '5754'\n",
      " '265' '92,500' '37700' '185,000' '755000' '155,000' '220,000' '139000'\n",
      " '137500' '35500' '138000' '191000' '19500' '30500' '720000000' '54,800'\n",
      " '841' '89500' '45000000' '84,500' '115200' '96000000' '32600' '7200000'\n",
      " '340000' '635000' '140000,00' '9600000' '2,200,000' '620000' '28800'\n",
      " '86700' '36400']\n"
     ]
    }
   ],
   "source": [
    "unique_values = mc_responses['CompensationAmount'].unique()\n",
    "\n",
    "print(unique_values)"
   ]
  },
  {
   "cell_type": "code",
   "execution_count": 17,
   "metadata": {},
   "outputs": [
    {
     "name": "stdout",
     "output_type": "stream",
     "text": [
      "0.0046063651591289785\n"
     ]
    }
   ],
   "source": [
    "conversion_rates_dict = conversionrates.set_index('originCountry')['exchangeRate'].to_dict()\n",
    "\n",
    "mc_responses_copy = mc_responses.copy()\n",
    "\n",
    "mc_responses_copy['CompensationAmount'] = pd.to_numeric(mc_responses_copy['CompensationAmount'].replace(',', '', regex=True), errors='coerce')\n",
    "mc_responses_copy.dropna(subset=['CompensationAmount'], inplace=True)\n",
    "\n",
    "mc_responses_copy['CompensationAmountUSD'] = mc_responses_copy['CompensationAmount'] * mc_responses_copy['CompensationCurrency'].map(conversion_rates_dict)\n",
    "\n",
    "mask_france = mc_responses_copy['Country'] == 'France'\n",
    "mask_earnings = mc_responses_copy['CompensationAmountUSD'] < 100000\n",
    "mask_cv_often = mc_responses_copy['WorkMethodsFrequencyCross-Validation'].isin(['Often', 'Most of the time'])\n",
    "\n",
    "combined_mask = mask_france & mask_earnings & mask_cv_often\n",
    "\n",
    "joint_probability = combined_mask.sum() / len(mc_responses)\n",
    "print(joint_probability)\n"
   ]
  },
  {
   "cell_type": "markdown",
   "metadata": {},
   "source": [
    "2g) What is the probability that a respondent uses C/C++ at work given that they are employed as a Programmer? "
   ]
  },
  {
   "cell_type": "code",
   "execution_count": 18,
   "metadata": {},
   "outputs": [
    {
     "name": "stdout",
     "output_type": "stream",
     "text": [
      "Probability of using C/C++ given that a respondent is a Programmer: 0.0736\n"
     ]
    }
   ],
   "source": [
    "programmers_using_cc = mc_responses[\n",
    "    (mc_responses['CurrentJobTitleSelect'] == 'Programmer') &\n",
    "    (mc_responses['WorkToolsFrequencyC'].isin(['Often', 'Most of the time','Sometimes','Rarely'])) \n",
    "   \n",
    "].shape[0]\n",
    "\n",
    "total_programmers = mc_responses[\n",
    "    mc_responses['CurrentJobTitleSelect'] == 'Programmer'\n",
    "].shape[0]\n",
    "\n",
    "probability_cc_given_programmer = programmers_using_cc / total_programmers if total_programmers > 0 else 0\n",
    "\n",
    "print(f\"Probability of using C/C++ given that a respondent is a Programmer: {probability_cc_given_programmer:.4f}\")\n"
   ]
  },
  {
   "cell_type": "code",
   "execution_count": 19,
   "metadata": {},
   "outputs": [
    {
     "name": "stdout",
     "output_type": "stream",
     "text": [
      "Programmer Probability 0.02763819095477387\n",
      "Using C++ Probability 0.08979420914094281\n",
      "Probability of using C/C++ given that a respondent is a Programmer:  0.0737504329004329\n"
     ]
    }
   ],
   "source": [
    "total_respondents = len(mc_responses)\n",
    "\n",
    "total_programmers = mc_responses[mc_responses['CurrentJobTitleSelect'] == 'Programmer'].shape[0]\n",
    "\n",
    "\n",
    "total_cc_users = mc_responses[mc_responses['WorkToolsFrequencyC'].isin(['Often', 'Most of the time', 'Sometimes', 'Rarely'])].shape[0]\n",
    "\n",
    "total_respondents, total_programmers, total_cc_users\n",
    "\n",
    "print(\"Programmer Probability\", total_programmers/total_respondents)\n",
    "print(\"Using C++ Probability\", total_cc_users/total_respondents)\n",
    "\n",
    "\n",
    "# We found that probability of working as a 'Programmer' among users who use C/C++: 0.0227 in question 2a.\n",
    "\n",
    "# With Bayes\n",
    "\n",
    "print(f\"Probability of using C/C++ given that a respondent is a Programmer: \", 0.0227 * 0.08979420914094281 / 0.02763819095477387)\n",
    "\n"
   ]
  },
  {
   "cell_type": "markdown",
   "metadata": {},
   "source": [
    "2h) Given the probability of a respondent wearing glasses is 0.15, and the probability of a respondent wearing glasses given they have a PhD is 0.25, find the probability of a respondent having a PhD given that they wear glasses."
   ]
  },
  {
   "cell_type": "code",
   "execution_count": 20,
   "metadata": {},
   "outputs": [
    {
     "name": "stdout",
     "output_type": "stream",
     "text": [
      "[\"Bachelor's degree\" \"Master's degree\" 'Doctoral degree' nan\n",
      " \"Some college/university study without earning a bachelor's degree\"\n",
      " 'I did not complete any formal education past high school'\n",
      " 'Professional degree' 'I prefer not to answer']\n"
     ]
    }
   ],
   "source": [
    "unique_values = mc_responses['FormalEducation'].unique()\n",
    "\n",
    "print(unique_values)\n"
   ]
  },
  {
   "cell_type": "markdown",
   "metadata": {},
   "source": [
    "P(Glasses)=0.15\n",
    "P(Glasses | Phd) = 0.25\n",
    "\n",
    "P(PhD ∣ Glasses)= P(Glasses | Phd)* P(Phd) / P(Glasses)\n",
    "\n"
   ]
  },
  {
   "cell_type": "code",
   "execution_count": 21,
   "metadata": {},
   "outputs": [
    {
     "name": "stdout",
     "output_type": "stream",
     "text": [
      "Probability of having a PhD: 0.1404\n",
      "0.23400733827869508\n"
     ]
    }
   ],
   "source": [
    "phd_respondents = mc_responses[mc_responses['FormalEducation'] == 'Doctoral degree']\n",
    "\n",
    "p_phd = len(phd_respondents) / len(mc_responses)\n",
    "\n",
    "print(f\"Probability of having a PhD: {p_phd:.4f}\") \n",
    "\n",
    "print(0.25*p_phd/0.15)"
   ]
  }
 ],
 "metadata": {
  "kernelspec": {
   "display_name": "Python 3",
   "language": "python",
   "name": "python3"
  },
  "language_info": {
   "codemirror_mode": {
    "name": "ipython",
    "version": 3
   },
   "file_extension": ".py",
   "mimetype": "text/x-python",
   "name": "python",
   "nbconvert_exporter": "python",
   "pygments_lexer": "ipython3",
   "version": "3.11.3"
  }
 },
 "nbformat": 4,
 "nbformat_minor": 2
}
